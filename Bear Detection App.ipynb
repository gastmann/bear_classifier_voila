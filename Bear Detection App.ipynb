{
 "cells": [
  {
   "cell_type": "code",
   "execution_count": 2,
   "id": "26ea1580",
   "metadata": {},
   "outputs": [
    {
     "name": "stdout",
     "output_type": "stream",
     "text": [
      "^C\n"
     ]
    },
    {
     "name": "stderr",
     "output_type": "stream",
     "text": [
      "ERROR: pip's dependency resolver does not currently take into account all the packages that are installed. This behaviour is the source of the following dependency conflicts.\n",
      "voila 0.2.16 requires nbconvert<7,>=6.0.0, but you have nbconvert 5.6.1 which is incompatible.\n"
     ]
    },
    {
     "name": "stdout",
     "output_type": "stream",
     "text": [
      "Requirement already satisfied: fastai>=2.0.0 in d:\\programme\\anaconda\\anaconda\\envs\\fastbook\\lib\\site-packages (from -r requirements.txt (line 1)) (2.5.2)\n",
      "Requirement already satisfied: graphviz in d:\\programme\\anaconda\\anaconda\\envs\\fastbook\\lib\\site-packages (from -r requirements.txt (line 2)) (0.17)\n",
      "Requirement already satisfied: ipywidgets in d:\\programme\\anaconda\\anaconda\\envs\\fastbook\\lib\\site-packages (from -r requirements.txt (line 3)) (7.6.5)\n",
      "Requirement already satisfied: matplotlib in d:\\programme\\anaconda\\anaconda\\envs\\fastbook\\lib\\site-packages (from -r requirements.txt (line 4)) (3.4.3)\n",
      "Requirement already satisfied: nbdev>=0.2.12 in d:\\programme\\anaconda\\anaconda\\envs\\fastbook\\lib\\site-packages (from -r requirements.txt (line 5)) (1.1.22)\n",
      "Requirement already satisfied: pandas in d:\\programme\\anaconda\\anaconda\\envs\\fastbook\\lib\\site-packages (from -r requirements.txt (line 6)) (1.3.3)\n",
      "Requirement already satisfied: scikit_learn in d:\\programme\\anaconda\\anaconda\\envs\\fastbook\\lib\\site-packages (from -r requirements.txt (line 7)) (1.0)\n",
      "Requirement already satisfied: azure-cognitiveservices-search-imagesearch in d:\\programme\\anaconda\\anaconda\\envs\\fastbook\\lib\\site-packages (from -r requirements.txt (line 8)) (2.0.0)\n",
      "Requirement already satisfied: sentencepiece in d:\\programme\\anaconda\\anaconda\\envs\\fastbook\\lib\\site-packages (from -r requirements.txt (line 9)) (0.1.96)\n",
      "Requirement already satisfied: packaging in d:\\programme\\anaconda\\anaconda\\envs\\fastbook\\lib\\site-packages (from fastai>=2.0.0->-r requirements.txt (line 1)) (21.0)\n",
      "Requirement already satisfied: torchvision>=0.8.2 in d:\\programme\\anaconda\\anaconda\\envs\\fastbook\\lib\\site-packages (from fastai>=2.0.0->-r requirements.txt (line 1)) (0.10.1)\n",
      "Requirement already satisfied: spacy<4 in d:\\programme\\anaconda\\anaconda\\envs\\fastbook\\lib\\site-packages (from fastai>=2.0.0->-r requirements.txt (line 1)) (3.1.3)\n",
      "Requirement already satisfied: pillow>6.0.0 in d:\\programme\\anaconda\\anaconda\\envs\\fastbook\\lib\\site-packages (from fastai>=2.0.0->-r requirements.txt (line 1)) (8.3.1)\n",
      "Requirement already satisfied: fastcore<1.4,>=1.3.8 in d:\\programme\\anaconda\\anaconda\\envs\\fastbook\\lib\\site-packages (from fastai>=2.0.0->-r requirements.txt (line 1)) (1.3.26)\n",
      "Requirement already satisfied: scipy in d:\\programme\\anaconda\\anaconda\\envs\\fastbook\\lib\\site-packages (from fastai>=2.0.0->-r requirements.txt (line 1)) (1.7.1)\n",
      "Requirement already satisfied: torch<1.10,>=1.7.0 in d:\\programme\\anaconda\\anaconda\\envs\\fastbook\\lib\\site-packages (from fastai>=2.0.0->-r requirements.txt (line 1)) (1.9.1)\n",
      "Requirement already satisfied: fastdownload<2,>=0.0.5 in d:\\programme\\anaconda\\anaconda\\envs\\fastbook\\lib\\site-packages (from fastai>=2.0.0->-r requirements.txt (line 1)) (0.0.5)\n",
      "Requirement already satisfied: pip in d:\\programme\\anaconda\\anaconda\\envs\\fastbook\\lib\\site-packages (from fastai>=2.0.0->-r requirements.txt (line 1)) (21.2.4)\n",
      "Requirement already satisfied: fastprogress>=0.2.4 in d:\\programme\\anaconda\\anaconda\\envs\\fastbook\\lib\\site-packages (from fastai>=2.0.0->-r requirements.txt (line 1)) (1.0.0)\n",
      "Requirement already satisfied: pyyaml in d:\\programme\\anaconda\\anaconda\\envs\\fastbook\\lib\\site-packages (from fastai>=2.0.0->-r requirements.txt (line 1)) (5.4.1)\n",
      "Requirement already satisfied: requests in d:\\programme\\anaconda\\anaconda\\envs\\fastbook\\lib\\site-packages (from fastai>=2.0.0->-r requirements.txt (line 1)) (2.26.0)\n",
      "Requirement already satisfied: nbformat>=4.2.0 in d:\\programme\\anaconda\\anaconda\\envs\\fastbook\\lib\\site-packages (from ipywidgets->-r requirements.txt (line 3)) (5.1.3)\n",
      "Requirement already satisfied: widgetsnbextension~=3.5.0 in d:\\programme\\anaconda\\anaconda\\envs\\fastbook\\lib\\site-packages (from ipywidgets->-r requirements.txt (line 3)) (3.5.1)\n",
      "Requirement already satisfied: ipython-genutils~=0.2.0 in d:\\programme\\anaconda\\anaconda\\envs\\fastbook\\lib\\site-packages (from ipywidgets->-r requirements.txt (line 3)) (0.2.0)\n",
      "Requirement already satisfied: ipykernel>=4.5.1 in d:\\programme\\anaconda\\anaconda\\envs\\fastbook\\lib\\site-packages (from ipywidgets->-r requirements.txt (line 3)) (6.4.1)\n",
      "Requirement already satisfied: traitlets>=4.3.1 in d:\\programme\\anaconda\\anaconda\\envs\\fastbook\\lib\\site-packages (from ipywidgets->-r requirements.txt (line 3)) (5.1.0)\n",
      "Requirement already satisfied: ipython>=4.0.0 in d:\\programme\\anaconda\\anaconda\\envs\\fastbook\\lib\\site-packages (from ipywidgets->-r requirements.txt (line 3)) (7.28.0)\n",
      "Requirement already satisfied: jupyterlab-widgets>=1.0.0 in d:\\programme\\anaconda\\anaconda\\envs\\fastbook\\lib\\site-packages (from ipywidgets->-r requirements.txt (line 3)) (1.0.2)\n",
      "Requirement already satisfied: pyparsing>=2.2.1 in d:\\programme\\anaconda\\anaconda\\envs\\fastbook\\lib\\site-packages (from matplotlib->-r requirements.txt (line 4)) (2.4.7)\n",
      "Requirement already satisfied: kiwisolver>=1.0.1 in d:\\programme\\anaconda\\anaconda\\envs\\fastbook\\lib\\site-packages (from matplotlib->-r requirements.txt (line 4)) (1.3.2)\n",
      "Requirement already satisfied: python-dateutil>=2.7 in d:\\programme\\anaconda\\anaconda\\envs\\fastbook\\lib\\site-packages (from matplotlib->-r requirements.txt (line 4)) (2.8.2)\n",
      "Requirement already satisfied: cycler>=0.10 in d:\\programme\\anaconda\\anaconda\\envs\\fastbook\\lib\\site-packages (from matplotlib->-r requirements.txt (line 4)) (0.10.0)\n",
      "Requirement already satisfied: numpy>=1.16 in d:\\programme\\anaconda\\anaconda\\envs\\fastbook\\lib\\site-packages (from matplotlib->-r requirements.txt (line 4)) (1.21.2)\n",
      "Requirement already satisfied: jupyter-client<7.0 in d:\\programme\\anaconda\\anaconda\\envs\\fastbook\\lib\\site-packages (from nbdev>=0.2.12->-r requirements.txt (line 5)) (6.1.12)\n",
      "Requirement already satisfied: ghapi in d:\\programme\\anaconda\\anaconda\\envs\\fastbook\\lib\\site-packages (from nbdev>=0.2.12->-r requirements.txt (line 5)) (0.1.19)\n",
      "Collecting nbconvert<6\n",
      "  Using cached nbconvert-5.6.1-py2.py3-none-any.whl (455 kB)\n",
      "Requirement already satisfied: jupyter in d:\\programme\\anaconda\\anaconda\\envs\\fastbook\\lib\\site-packages (from nbdev>=0.2.12->-r requirements.txt (line 5)) (1.0.0)\n",
      "Requirement already satisfied: fastrelease in d:\\programme\\anaconda\\anaconda\\envs\\fastbook\\lib\\site-packages (from nbdev>=0.2.12->-r requirements.txt (line 5)) (0.1.12)\n",
      "Requirement already satisfied: pytz>=2017.3 in d:\\programme\\anaconda\\anaconda\\envs\\fastbook\\lib\\site-packages (from pandas->-r requirements.txt (line 6)) (2021.3)\n",
      "Requirement already satisfied: joblib>=0.11 in d:\\programme\\anaconda\\anaconda\\envs\\fastbook\\lib\\site-packages (from scikit_learn->-r requirements.txt (line 7)) (1.1.0)\n",
      "Requirement already satisfied: threadpoolctl>=2.0.0 in d:\\programme\\anaconda\\anaconda\\envs\\fastbook\\lib\\site-packages (from scikit_learn->-r requirements.txt (line 7)) (3.0.0)\n",
      "Requirement already satisfied: msrestazure<2.0.0,>=0.4.32 in d:\\programme\\anaconda\\anaconda\\envs\\fastbook\\lib\\site-packages (from azure-cognitiveservices-search-imagesearch->-r requirements.txt (line 8)) (0.6.4)\n",
      "Requirement already satisfied: msrest>=0.5.0 in d:\\programme\\anaconda\\anaconda\\envs\\fastbook\\lib\\site-packages (from azure-cognitiveservices-search-imagesearch->-r requirements.txt (line 8)) (0.6.21)\n",
      "Requirement already satisfied: azure-common~=1.1 in d:\\programme\\anaconda\\anaconda\\envs\\fastbook\\lib\\site-packages (from azure-cognitiveservices-search-imagesearch->-r requirements.txt (line 8)) (1.1.27)\n",
      "Requirement already satisfied: six in d:\\programme\\anaconda\\anaconda\\envs\\fastbook\\lib\\site-packages (from cycler>=0.10->matplotlib->-r requirements.txt (line 4)) (1.16.0)\n",
      "Requirement already satisfied: matplotlib-inline<0.2.0,>=0.1.0 in d:\\programme\\anaconda\\anaconda\\envs\\fastbook\\lib\\site-packages (from ipykernel>=4.5.1->ipywidgets->-r requirements.txt (line 3)) (0.1.3)\n",
      "Requirement already satisfied: debugpy<2.0,>=1.0.0 in d:\\programme\\anaconda\\anaconda\\envs\\fastbook\\lib\\site-packages (from ipykernel>=4.5.1->ipywidgets->-r requirements.txt (line 3)) (1.5.0)\n",
      "Requirement already satisfied: tornado<7.0,>=4.2 in d:\\programme\\anaconda\\anaconda\\envs\\fastbook\\lib\\site-packages (from ipykernel>=4.5.1->ipywidgets->-r requirements.txt (line 3)) (6.1)\n",
      "Requirement already satisfied: pygments in d:\\programme\\anaconda\\anaconda\\envs\\fastbook\\lib\\site-packages (from ipython>=4.0.0->ipywidgets->-r requirements.txt (line 3)) (2.10.0)\n",
      "Requirement already satisfied: backcall in d:\\programme\\anaconda\\anaconda\\envs\\fastbook\\lib\\site-packages (from ipython>=4.0.0->ipywidgets->-r requirements.txt (line 3)) (0.2.0)\n",
      "Requirement already satisfied: setuptools>=18.5 in d:\\programme\\anaconda\\anaconda\\envs\\fastbook\\lib\\site-packages (from ipython>=4.0.0->ipywidgets->-r requirements.txt (line 3)) (58.0.4)\n",
      "Requirement already satisfied: prompt-toolkit!=3.0.0,!=3.0.1,<3.1.0,>=2.0.0 in d:\\programme\\anaconda\\anaconda\\envs\\fastbook\\lib\\site-packages (from ipython>=4.0.0->ipywidgets->-r requirements.txt (line 3)) (3.0.20)\n",
      "Requirement already satisfied: pickleshare in d:\\programme\\anaconda\\anaconda\\envs\\fastbook\\lib\\site-packages (from ipython>=4.0.0->ipywidgets->-r requirements.txt (line 3)) (0.7.5)\n",
      "Requirement already satisfied: decorator in d:\\programme\\anaconda\\anaconda\\envs\\fastbook\\lib\\site-packages (from ipython>=4.0.0->ipywidgets->-r requirements.txt (line 3)) (5.1.0)\n",
      "Requirement already satisfied: colorama in d:\\programme\\anaconda\\anaconda\\envs\\fastbook\\lib\\site-packages (from ipython>=4.0.0->ipywidgets->-r requirements.txt (line 3)) (0.4.4)\n",
      "Requirement already satisfied: jedi>=0.16 in d:\\programme\\anaconda\\anaconda\\envs\\fastbook\\lib\\site-packages (from ipython>=4.0.0->ipywidgets->-r requirements.txt (line 3)) (0.18.0)\n",
      "Requirement already satisfied: parso<0.9.0,>=0.8.0 in d:\\programme\\anaconda\\anaconda\\envs\\fastbook\\lib\\site-packages (from jedi>=0.16->ipython>=4.0.0->ipywidgets->-r requirements.txt (line 3)) (0.8.2)\n",
      "Requirement already satisfied: jupyter-core>=4.6.0 in d:\\programme\\anaconda\\anaconda\\envs\\fastbook\\lib\\site-packages (from jupyter-client<7.0->nbdev>=0.2.12->-r requirements.txt (line 5)) (4.8.1)\n",
      "Requirement already satisfied: pyzmq>=13 in d:\\programme\\anaconda\\anaconda\\envs\\fastbook\\lib\\site-packages (from jupyter-client<7.0->nbdev>=0.2.12->-r requirements.txt (line 5)) (22.3.0)\n",
      "Requirement already satisfied: pywin32>=1.0 in d:\\programme\\anaconda\\anaconda\\envs\\fastbook\\lib\\site-packages (from jupyter-core>=4.6.0->jupyter-client<7.0->nbdev>=0.2.12->-r requirements.txt (line 5)) (301)\n",
      "Requirement already satisfied: isodate>=0.6.0 in d:\\programme\\anaconda\\anaconda\\envs\\fastbook\\lib\\site-packages (from msrest>=0.5.0->azure-cognitiveservices-search-imagesearch->-r requirements.txt (line 8)) (0.6.0)\n",
      "Requirement already satisfied: certifi>=2017.4.17 in d:\\programme\\anaconda\\anaconda\\envs\\fastbook\\lib\\site-packages (from msrest>=0.5.0->azure-cognitiveservices-search-imagesearch->-r requirements.txt (line 8)) (2021.5.30)\n",
      "Requirement already satisfied: requests-oauthlib>=0.5.0 in d:\\programme\\anaconda\\anaconda\\envs\\fastbook\\lib\\site-packages (from msrest>=0.5.0->azure-cognitiveservices-search-imagesearch->-r requirements.txt (line 8)) (1.3.0)\n",
      "Requirement already satisfied: adal<2.0.0,>=0.6.0 in d:\\programme\\anaconda\\anaconda\\envs\\fastbook\\lib\\site-packages (from msrestazure<2.0.0,>=0.4.32->azure-cognitiveservices-search-imagesearch->-r requirements.txt (line 8)) (1.2.7)\n",
      "Requirement already satisfied: PyJWT<3,>=1.0.0 in d:\\programme\\anaconda\\anaconda\\envs\\fastbook\\lib\\site-packages (from adal<2.0.0,>=0.6.0->msrestazure<2.0.0,>=0.4.32->azure-cognitiveservices-search-imagesearch->-r requirements.txt (line 8)) (2.2.0)\n",
      "Requirement already satisfied: cryptography>=1.1.0 in d:\\programme\\anaconda\\anaconda\\envs\\fastbook\\lib\\site-packages (from adal<2.0.0,>=0.6.0->msrestazure<2.0.0,>=0.4.32->azure-cognitiveservices-search-imagesearch->-r requirements.txt (line 8)) (35.0.0)\n",
      "Requirement already satisfied: cffi>=1.12 in d:\\programme\\anaconda\\anaconda\\envs\\fastbook\\lib\\site-packages (from cryptography>=1.1.0->adal<2.0.0,>=0.6.0->msrestazure<2.0.0,>=0.4.32->azure-cognitiveservices-search-imagesearch->-r requirements.txt (line 8)) (1.14.6)\n",
      "Requirement already satisfied: pycparser in d:\\programme\\anaconda\\anaconda\\envs\\fastbook\\lib\\site-packages (from cffi>=1.12->cryptography>=1.1.0->adal<2.0.0,>=0.6.0->msrestazure<2.0.0,>=0.4.32->azure-cognitiveservices-search-imagesearch->-r requirements.txt (line 8)) (2.20)\n",
      "Requirement already satisfied: testpath in d:\\programme\\anaconda\\anaconda\\envs\\fastbook\\lib\\site-packages (from nbconvert<6->nbdev>=0.2.12->-r requirements.txt (line 5)) (0.5.0)\n",
      "Requirement already satisfied: pandocfilters>=1.4.1 in d:\\programme\\anaconda\\anaconda\\envs\\fastbook\\lib\\site-packages (from nbconvert<6->nbdev>=0.2.12->-r requirements.txt (line 5)) (1.5.0)\n",
      "Requirement already satisfied: entrypoints>=0.2.2 in d:\\programme\\anaconda\\anaconda\\envs\\fastbook\\lib\\site-packages (from nbconvert<6->nbdev>=0.2.12->-r requirements.txt (line 5)) (0.3)\n",
      "Requirement already satisfied: bleach in d:\\programme\\anaconda\\anaconda\\envs\\fastbook\\lib\\site-packages (from nbconvert<6->nbdev>=0.2.12->-r requirements.txt (line 5)) (4.1.0)\n",
      "Requirement already satisfied: defusedxml in d:\\programme\\anaconda\\anaconda\\envs\\fastbook\\lib\\site-packages (from nbconvert<6->nbdev>=0.2.12->-r requirements.txt (line 5)) (0.7.1)\n",
      "Requirement already satisfied: jinja2>=2.4 in d:\\programme\\anaconda\\anaconda\\envs\\fastbook\\lib\\site-packages (from nbconvert<6->nbdev>=0.2.12->-r requirements.txt (line 5)) (3.0.2)\n",
      "Requirement already satisfied: mistune<2,>=0.8.1 in d:\\programme\\anaconda\\anaconda\\envs\\fastbook\\lib\\site-packages (from nbconvert<6->nbdev>=0.2.12->-r requirements.txt (line 5)) (0.8.4)\n",
      "Requirement already satisfied: MarkupSafe>=2.0 in d:\\programme\\anaconda\\anaconda\\envs\\fastbook\\lib\\site-packages (from jinja2>=2.4->nbconvert<6->nbdev>=0.2.12->-r requirements.txt (line 5)) (2.0.1)\n",
      "Requirement already satisfied: jsonschema!=2.5.0,>=2.4 in d:\\programme\\anaconda\\anaconda\\envs\\fastbook\\lib\\site-packages (from nbformat>=4.2.0->ipywidgets->-r requirements.txt (line 3)) (4.1.0)\n",
      "Requirement already satisfied: attrs>=17.4.0 in d:\\programme\\anaconda\\anaconda\\envs\\fastbook\\lib\\site-packages (from jsonschema!=2.5.0,>=2.4->nbformat>=4.2.0->ipywidgets->-r requirements.txt (line 3)) (21.2.0)\n",
      "Requirement already satisfied: pyrsistent!=0.17.0,!=0.17.1,!=0.17.2,>=0.14.0 in d:\\programme\\anaconda\\anaconda\\envs\\fastbook\\lib\\site-packages (from jsonschema!=2.5.0,>=2.4->nbformat>=4.2.0->ipywidgets->-r requirements.txt (line 3)) (0.18.0)\n",
      "Requirement already satisfied: wcwidth in d:\\programme\\anaconda\\anaconda\\envs\\fastbook\\lib\\site-packages (from prompt-toolkit!=3.0.0,!=3.0.1,<3.1.0,>=2.0.0->ipython>=4.0.0->ipywidgets->-r requirements.txt (line 3)) (0.2.5)\n",
      "Requirement already satisfied: urllib3<1.27,>=1.21.1 in d:\\programme\\anaconda\\anaconda\\envs\\fastbook\\lib\\site-packages (from requests->fastai>=2.0.0->-r requirements.txt (line 1)) (1.26.7)\n",
      "Requirement already satisfied: idna<4,>=2.5 in d:\\programme\\anaconda\\anaconda\\envs\\fastbook\\lib\\site-packages (from requests->fastai>=2.0.0->-r requirements.txt (line 1)) (3.2)\n",
      "Requirement already satisfied: charset-normalizer~=2.0.0 in d:\\programme\\anaconda\\anaconda\\envs\\fastbook\\lib\\site-packages (from requests->fastai>=2.0.0->-r requirements.txt (line 1)) (2.0.6)\n",
      "Requirement already satisfied: oauthlib>=3.0.0 in d:\\programme\\anaconda\\anaconda\\envs\\fastbook\\lib\\site-packages (from requests-oauthlib>=0.5.0->msrest>=0.5.0->azure-cognitiveservices-search-imagesearch->-r requirements.txt (line 8)) (3.1.1)\n",
      "Requirement already satisfied: thinc<8.1.0,>=8.0.9 in d:\\programme\\anaconda\\anaconda\\envs\\fastbook\\lib\\site-packages (from spacy<4->fastai>=2.0.0->-r requirements.txt (line 1)) (8.0.10)\n",
      "Requirement already satisfied: wasabi<1.1.0,>=0.8.1 in d:\\programme\\anaconda\\anaconda\\envs\\fastbook\\lib\\site-packages (from spacy<4->fastai>=2.0.0->-r requirements.txt (line 1)) (0.8.2)\n",
      "Requirement already satisfied: cymem<2.1.0,>=2.0.2 in d:\\programme\\anaconda\\anaconda\\envs\\fastbook\\lib\\site-packages (from spacy<4->fastai>=2.0.0->-r requirements.txt (line 1)) (2.0.5)\n",
      "Requirement already satisfied: srsly<3.0.0,>=2.4.1 in d:\\programme\\anaconda\\anaconda\\envs\\fastbook\\lib\\site-packages (from spacy<4->fastai>=2.0.0->-r requirements.txt (line 1)) (2.4.1)\n",
      "Requirement already satisfied: tqdm<5.0.0,>=4.38.0 in d:\\programme\\anaconda\\anaconda\\envs\\fastbook\\lib\\site-packages (from spacy<4->fastai>=2.0.0->-r requirements.txt (line 1)) (4.62.3)\n",
      "Requirement already satisfied: murmurhash<1.1.0,>=0.28.0 in d:\\programme\\anaconda\\anaconda\\envs\\fastbook\\lib\\site-packages (from spacy<4->fastai>=2.0.0->-r requirements.txt (line 1)) (1.0.5)\n",
      "Requirement already satisfied: pathy>=0.3.5 in d:\\programme\\anaconda\\anaconda\\envs\\fastbook\\lib\\site-packages (from spacy<4->fastai>=2.0.0->-r requirements.txt (line 1)) (0.6.0)\n",
      "Requirement already satisfied: preshed<3.1.0,>=3.0.2 in d:\\programme\\anaconda\\anaconda\\envs\\fastbook\\lib\\site-packages (from spacy<4->fastai>=2.0.0->-r requirements.txt (line 1)) (3.0.5)\n",
      "Requirement already satisfied: catalogue<2.1.0,>=2.0.6 in d:\\programme\\anaconda\\anaconda\\envs\\fastbook\\lib\\site-packages (from spacy<4->fastai>=2.0.0->-r requirements.txt (line 1)) (2.0.6)\n",
      "Requirement already satisfied: typer<0.5.0,>=0.3.0 in d:\\programme\\anaconda\\anaconda\\envs\\fastbook\\lib\\site-packages (from spacy<4->fastai>=2.0.0->-r requirements.txt (line 1)) (0.4.0)\n",
      "Requirement already satisfied: pydantic!=1.8,!=1.8.1,<1.9.0,>=1.7.4 in d:\\programme\\anaconda\\anaconda\\envs\\fastbook\\lib\\site-packages (from spacy<4->fastai>=2.0.0->-r requirements.txt (line 1)) (1.8.2)\n",
      "Requirement already satisfied: spacy-legacy<3.1.0,>=3.0.8 in d:\\programme\\anaconda\\anaconda\\envs\\fastbook\\lib\\site-packages (from spacy<4->fastai>=2.0.0->-r requirements.txt (line 1)) (3.0.8)\n",
      "Requirement already satisfied: blis<0.8.0,>=0.4.0 in d:\\programme\\anaconda\\anaconda\\envs\\fastbook\\lib\\site-packages (from spacy<4->fastai>=2.0.0->-r requirements.txt (line 1)) (0.7.4)\n",
      "Requirement already satisfied: smart-open<6.0.0,>=5.0.0 in d:\\programme\\anaconda\\anaconda\\envs\\fastbook\\lib\\site-packages (from pathy>=0.3.5->spacy<4->fastai>=2.0.0->-r requirements.txt (line 1)) (5.2.1)\n",
      "Requirement already satisfied: typing-extensions>=3.7.4.3 in d:\\programme\\anaconda\\anaconda\\envs\\fastbook\\lib\\site-packages (from pydantic!=1.8,!=1.8.1,<1.9.0,>=1.7.4->spacy<4->fastai>=2.0.0->-r requirements.txt (line 1)) (3.10.0.2)\n",
      "Requirement already satisfied: click<9.0.0,>=7.1.1 in d:\\programme\\anaconda\\anaconda\\envs\\fastbook\\lib\\site-packages (from typer<0.5.0,>=0.3.0->spacy<4->fastai>=2.0.0->-r requirements.txt (line 1)) (8.0.3)\n",
      "Requirement already satisfied: notebook>=4.4.1 in d:\\programme\\anaconda\\anaconda\\envs\\fastbook\\lib\\site-packages (from widgetsnbextension~=3.5.0->ipywidgets->-r requirements.txt (line 3)) (6.4.4)\n",
      "Requirement already satisfied: Send2Trash>=1.5.0 in d:\\programme\\anaconda\\anaconda\\envs\\fastbook\\lib\\site-packages (from notebook>=4.4.1->widgetsnbextension~=3.5.0->ipywidgets->-r requirements.txt (line 3)) (1.8.0)\n",
      "Requirement already satisfied: prometheus-client in d:\\programme\\anaconda\\anaconda\\envs\\fastbook\\lib\\site-packages (from notebook>=4.4.1->widgetsnbextension~=3.5.0->ipywidgets->-r requirements.txt (line 3)) (0.11.0)\n",
      "Requirement already satisfied: terminado>=0.8.3 in d:\\programme\\anaconda\\anaconda\\envs\\fastbook\\lib\\site-packages (from notebook>=4.4.1->widgetsnbextension~=3.5.0->ipywidgets->-r requirements.txt (line 3)) (0.12.1)\n",
      "Requirement already satisfied: argon2-cffi in d:\\programme\\anaconda\\anaconda\\envs\\fastbook\\lib\\site-packages (from notebook>=4.4.1->widgetsnbextension~=3.5.0->ipywidgets->-r requirements.txt (line 3)) (21.1.0)\n",
      "Requirement already satisfied: pywinpty>=1.1.0 in d:\\programme\\anaconda\\anaconda\\envs\\fastbook\\lib\\site-packages (from terminado>=0.8.3->notebook>=4.4.1->widgetsnbextension~=3.5.0->ipywidgets->-r requirements.txt (line 3)) (1.1.4)\n",
      "Requirement already satisfied: webencodings in d:\\programme\\anaconda\\anaconda\\envs\\fastbook\\lib\\site-packages (from bleach->nbconvert<6->nbdev>=0.2.12->-r requirements.txt (line 5)) (0.5.1)\n",
      "Requirement already satisfied: qtconsole in d:\\programme\\anaconda\\anaconda\\envs\\fastbook\\lib\\site-packages (from jupyter->nbdev>=0.2.12->-r requirements.txt (line 5)) (5.1.1)\n",
      "Requirement already satisfied: jupyter-console in d:\\programme\\anaconda\\anaconda\\envs\\fastbook\\lib\\site-packages (from jupyter->nbdev>=0.2.12->-r requirements.txt (line 5)) (6.4.0)\n",
      "Requirement already satisfied: qtpy in d:\\programme\\anaconda\\anaconda\\envs\\fastbook\\lib\\site-packages (from qtconsole->jupyter->nbdev>=0.2.12->-r requirements.txt (line 5)) (1.11.2)\n",
      "Installing collected packages: nbconvert\n",
      "  Attempting uninstall: nbconvert\n",
      "    Found existing installation: nbconvert 6.2.0\n",
      "    Uninstalling nbconvert-6.2.0:\n",
      "      Successfully uninstalled nbconvert-6.2.0\n",
      "Successfully installed nbconvert-5.6.1\n"
     ]
    },
    {
     "name": "stdout",
     "output_type": "stream",
     "text": [
      "^C\n",
      "^C\n",
      "^C\n"
     ]
    }
   ],
   "source": [
    "!pip install -r requirements.txt\n",
    "!pip install -Uqq fastbook\n",
    "!pip install voila\n",
    "!jupyter serverextension enable --sys-prefix voila "
   ]
  },
  {
   "cell_type": "code",
   "execution_count": 2,
   "id": "98f3371d",
   "metadata": {},
   "outputs": [],
   "source": [
    "import fastbook\n",
    "from fastbook import *\n",
    "from fastai.vision.widgets import *"
   ]
  },
  {
   "cell_type": "code",
   "execution_count": 3,
   "id": "93dabe15",
   "metadata": {},
   "outputs": [],
   "source": [
    "path = Path()\n",
    "path.ls(file_exts='.pkl')\n",
    "learn_inf = load_learner(path/'export.pkl')"
   ]
  },
  {
   "cell_type": "code",
   "execution_count": 5,
   "id": "ae45a923",
   "metadata": {},
   "outputs": [
    {
     "data": {
      "application/vnd.jupyter.widget-view+json": {
       "model_id": "5b4d9c4996944450bbf7492989bdc6db",
       "version_major": 2,
       "version_minor": 0
      },
      "text/plain": [
       "VBox(children=(Label(value='Select your bear!'), FileUpload(value={}, description='Upload'), Button(descriptio…"
      ]
     },
     "metadata": {},
     "output_type": "display_data"
    }
   ],
   "source": [
    "#hide_output\n",
    "btn_upload = widgets.FileUpload()\n",
    "out_pl = widgets.Output()\n",
    "out_pl.clear_output()\n",
    "\n",
    "lbl_pred = widgets.Label()\n",
    "\n",
    "btn_run = widgets.Button(description='Classify')\n",
    "\n",
    "def on_click_classify(change):\n",
    "    img = PILImage.create(btn_upload.data[-1])\n",
    "    out_pl.clear_output()\n",
    "    with out_pl: display(img.to_thumb(128,128))\n",
    "    pred,pred_idx,probs = learn_inf.predict(img)\n",
    "    lbl_pred.value = f'Our Prediction: {pred}; Confidence: {probs[pred_idx]:.04f}'\n",
    "\n",
    "btn_run.on_click(on_click_classify)\n",
    "\n",
    "#hide_output\n",
    "VBox([widgets.Label('Select your bear!'), \n",
    "      btn_upload, btn_run, out_pl, lbl_pred])"
   ]
  },
  {
   "cell_type": "code",
   "execution_count": null,
   "id": "3d25328c",
   "metadata": {},
   "outputs": [],
   "source": []
  }
 ],
 "metadata": {
  "kernelspec": {
   "display_name": "Python 3 (ipykernel)",
   "language": "python",
   "name": "python3"
  },
  "language_info": {
   "codemirror_mode": {
    "name": "ipython",
    "version": 3
   },
   "file_extension": ".py",
   "mimetype": "text/x-python",
   "name": "python",
   "nbconvert_exporter": "python",
   "pygments_lexer": "ipython3",
   "version": "3.9.7"
  }
 },
 "nbformat": 4,
 "nbformat_minor": 5
}
